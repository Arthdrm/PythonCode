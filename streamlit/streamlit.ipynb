{
 "cells": [
  {
   "cell_type": "markdown",
   "id": "64277a88-b4c8-40ac-b243-364e427b9cc4",
   "metadata": {},
   "source": [
    "**Streamlit Exercise**"
   ]
  },
  {
   "cell_type": "code",
   "execution_count": 10,
   "id": "5804eede-676c-4c03-8cbe-b853d68b3098",
   "metadata": {},
   "outputs": [],
   "source": [
    "import streamlit as st "
   ]
  },
  {
   "cell_type": "code",
   "execution_count": 11,
   "id": "1356edd5-08a6-4a71-a7a3-6d40bf5aa646",
   "metadata": {},
   "outputs": [
    {
     "name": "stderr",
     "output_type": "stream",
     "text": [
      "2024-02-29 00:23:56.264 \n",
      "  \u001b[33m\u001b[1mWarning:\u001b[0m to view this Streamlit app on a browser, run it with the following\n",
      "  command:\n",
      "\n",
      "    streamlit run C:\\Users\\User\\.virtualenvs\\streamlit-Cisr4RyD\\Lib\\site-packages\\ipykernel_launcher.py [ARGUMENTS]\n"
     ]
    }
   ],
   "source": [
    "st.write(\n",
    "    \"\"\"\n",
    "    # My first app\n",
    "    Fog that bih \n",
    "    \"\"\"\n",
    ")"
   ]
  },
  {
   "cell_type": "code",
   "execution_count": null,
   "id": "dbfe3a59-a2f1-46fc-afdc-200f4f99818f",
   "metadata": {},
   "outputs": [],
   "source": []
  }
 ],
 "metadata": {
  "kernelspec": {
   "display_name": "Python 3 (ipykernel)",
   "language": "python",
   "name": "python3"
  },
  "language_info": {
   "codemirror_mode": {
    "name": "ipython",
    "version": 3
   },
   "file_extension": ".py",
   "mimetype": "text/x-python",
   "name": "python",
   "nbconvert_exporter": "python",
   "pygments_lexer": "ipython3",
   "version": "3.11.4"
  }
 },
 "nbformat": 4,
 "nbformat_minor": 5
}
